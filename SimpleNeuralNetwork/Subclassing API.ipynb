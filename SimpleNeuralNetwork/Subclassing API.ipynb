{
 "cells": [
  {
   "cell_type": "markdown",
   "metadata": {},
   "source": [
    "# Subclassing API - Tensorflow 2.0\n"
   ]
  },
  {
   "cell_type": "code",
   "execution_count": 1,
   "metadata": {},
   "outputs": [],
   "source": [
    "import tensorflow as tf\n",
    "import numpy as np\n"
   ]
  },
  {
   "cell_type": "markdown",
   "metadata": {
    "raw_mimetype": "text/latex"
   },
   "source": [
    "# Be sure to used Tensorflow 2.0"
   ]
  },
  {
   "cell_type": "code",
   "execution_count": 2,
   "metadata": {},
   "outputs": [],
   "source": [
    "assert hasattr(tf, \"function\") # Be sure to use tensorflow 2.0"
   ]
  },
  {
   "cell_type": "markdown",
   "metadata": {},
   "source": [
    "# Import the dataset"
   ]
  },
  {
   "cell_type": "code",
   "execution_count": 3,
   "metadata": {},
   "outputs": [],
   "source": [
    "from sklearn.preprocessing import StandardScaler\n",
    "# Fashio MNIST\n",
    "fashion_mnist = tf.keras.datasets.fashion_mnist\n",
    "(images, targets), (_, _) = fashion_mnist.load_data()\n",
    "# Get only a subpart of the dataset\n",
    "images = images[:10000]\n",
    "targets = targets [:10000]\n",
    "# Reshape the dataset and convert to float\n",
    "images = images.reshape(-1, 784)\n",
    "images = images.astype(float)\n",
    "# Normalize images\n",
    "scaler = StandardScaler()\n",
    "images = scaler.fit_transform(images)"
   ]
  },
  {
   "cell_type": "markdown",
   "metadata": {},
   "source": [
    "# Create a model using the SubClassing API\n",
    "The following call is not working because self.output is already set by the parent: tf.keras.Model"
   ]
  },
  {
   "cell_type": "code",
   "execution_count": 4,
   "metadata": {},
   "outputs": [
    {
     "name": "stdout",
     "output_type": "stream",
     "text": [
      "e= Can't set the attribute \"output\", likely because it conflicts with an existing read-only @property of the object. Please choose a different name.\n"
     ]
    }
   ],
   "source": [
    "class CustomModel(tf.keras.Model):\n",
    "    \n",
    "    def __init__(self):\n",
    "        super(CustomModel, self).__init__()\n",
    "\n",
    "        # First in the init method you need to instanciate the layers you will use\n",
    "        self.first_layer = tf.keras.layers.Dense(64)\n",
    "        # WARNING: DO NOT CALL ONE OF YOUR CLASS VARIABLE: output\n",
    "        self.output = tf.keras.layers.Dense(10, activation='softmax', name=\"d1\")\n",
    "\n",
    "    def call(self, x):\n",
    "        # Then in the call method you can execute your operations\n",
    "        layer1_out = self.first_layer(x)\n",
    "        output = self.output_layer(layer1_out)\n",
    "        return output\n",
    "\n",
    "try:\n",
    "    model = CustomModel()\n",
    "except Exception as e:\n",
    "    print(\"e=\", e)\n"
   ]
  },
  {
   "cell_type": "code",
   "execution_count": 5,
   "metadata": {},
   "outputs": [
    {
     "name": "stdout",
     "output_type": "stream",
     "text": [
      "WARNING:tensorflow:Entity <bound method CustomModel.call of <__main__.CustomModel object at 0x0000026587A3E438>> could not be transformed and will be executed as-is. Please report this to the AutoGraph team. When filing the bug, set the verbosity to 10 (on Linux, `export AUTOGRAPH_VERBOSITY=10`) and attach the full output. Cause: Bad argument number for Name: 3, expecting 4\n",
      "WARNING: Entity <bound method CustomModel.call of <__main__.CustomModel object at 0x0000026587A3E438>> could not be transformed and will be executed as-is. Please report this to the AutoGraph team. When filing the bug, set the verbosity to 10 (on Linux, `export AUTOGRAPH_VERBOSITY=10`) and attach the full output. Cause: Bad argument number for Name: 3, expecting 4\n"
     ]
    },
    {
     "data": {
      "text/plain": [
       "array([[0.04690019, 0.05048972, 0.01763368, 0.20185716, 0.0066617 ,\n",
       "        0.24131268, 0.3708262 , 0.03154147, 0.01954026, 0.01323696]],\n",
       "      dtype=float32)"
      ]
     },
     "execution_count": 5,
     "metadata": {},
     "output_type": "execute_result"
    }
   ],
   "source": [
    "class CustomModel(tf.keras.Model):\n",
    "    \n",
    "    def __init__(self):\n",
    "        super(CustomModel, self).__init__()        \n",
    "        # First in the init method you need to instanciate the layers you will use\n",
    "        self.first_layer = tf.keras.layers.Dense(64, activation=\"relu\", name=\"first_layer\")\n",
    "        self.output_layer = tf.keras.layers.Dense(10, activation='softmax', name=\"output_layer\")\n",
    "\n",
    "    def call(self, x):\n",
    "        # Then in the call method you can execute your operations\n",
    "        prev = self.first_layer(x)\n",
    "        out = self.output_layer(prev)\n",
    "        return out\n",
    "\n",
    "model = CustomModel()\n",
    "model.predict(images[0:1])"
   ]
  },
  {
   "cell_type": "raw",
   "metadata": {},
   "source": [
    "# The cell above is now working: We can call model.predict as we would do with a basic keras model.\n",
    "The predict method of the parent class called the call method from the CustomModel class"
   ]
  },
  {
   "cell_type": "code",
   "execution_count": 6,
   "metadata": {},
   "outputs": [
    {
     "data": {
      "text/plain": [
       "array([[0.04690019, 0.05048972, 0.01763368, 0.20185716, 0.0066617 ,\n",
       "        0.24131268, 0.3708262 , 0.03154147, 0.01954026, 0.01323696]],\n",
       "      dtype=float32)"
      ]
     },
     "execution_count": 6,
     "metadata": {},
     "output_type": "execute_result"
    }
   ],
   "source": [
    "model.predict(images[0:1])"
   ]
  },
  {
   "cell_type": "markdown",
   "metadata": {},
   "source": [
    "# Train the model\n",
    "The model can be used as a normal keras model. Thus, to train it you just need to compile and to fit the model."
   ]
  },
  {
   "cell_type": "code",
   "execution_count": 7,
   "metadata": {},
   "outputs": [],
   "source": [
    "# Compile the model\n",
    "model.compile(\n",
    "    loss=\"sparse_categorical_crossentropy\",\n",
    "    optimizer=\"sgd\",\n",
    "    metrics=[\"accuracy\"]\n",
    ")"
   ]
  },
  {
   "cell_type": "code",
   "execution_count": 8,
   "metadata": {},
   "outputs": [
    {
     "name": "stdout",
     "output_type": "stream",
     "text": [
      "Train on 10000 samples\n",
      "Epoch 1/10\n",
      "WARNING:tensorflow:Entity <function Function._initialize_uninitialized_variables.<locals>.initialize_variables at 0x0000026582919048> could not be transformed and will be executed as-is. Please report this to the AutoGraph team. When filing the bug, set the verbosity to 10 (on Linux, `export AUTOGRAPH_VERBOSITY=10`) and attach the full output. Cause: module 'gast' has no attribute 'Num'\n",
      "WARNING: Entity <function Function._initialize_uninitialized_variables.<locals>.initialize_variables at 0x0000026582919048> could not be transformed and will be executed as-is. Please report this to the AutoGraph team. When filing the bug, set the verbosity to 10 (on Linux, `export AUTOGRAPH_VERBOSITY=10`) and attach the full output. Cause: module 'gast' has no attribute 'Num'\n",
      "10000/10000 [==============================] - 2s 153us/sample - loss: 0.8599 - accuracy: 0.7107\n",
      "Epoch 2/10\n",
      "10000/10000 [==============================] - 1s 93us/sample - loss: 0.5292 - accuracy: 0.8150\n",
      "Epoch 3/10\n",
      "10000/10000 [==============================] - 1s 88us/sample - loss: 0.4595 - accuracy: 0.8391\n",
      "Epoch 4/10\n",
      "10000/10000 [==============================] - 1s 90us/sample - loss: 0.4202 - accuracy: 0.8537\n",
      "Epoch 5/10\n",
      "10000/10000 [==============================] - 1s 91us/sample - loss: 0.3936 - accuracy: 0.8602\n",
      "Epoch 6/10\n",
      "10000/10000 [==============================] - 1s 95us/sample - loss: 0.3730 - accuracy: 0.8701\n",
      "Epoch 7/10\n",
      "10000/10000 [==============================] - 1s 88us/sample - loss: 0.3570 - accuracy: 0.8757\n",
      "Epoch 8/10\n",
      "10000/10000 [==============================] - 1s 88us/sample - loss: 0.3416 - accuracy: 0.8835\n",
      "Epoch 9/10\n",
      "10000/10000 [==============================] - 1s 88us/sample - loss: 0.3284 - accuracy: 0.8864\n",
      "Epoch 10/10\n",
      "10000/10000 [==============================] - 1s 90us/sample - loss: 0.3158 - accuracy: 0.8929\n"
     ]
    }
   ],
   "source": [
    "history = model.fit(images, targets, epochs=10)"
   ]
  }
 ],
 "metadata": {
  "celltoolbar": "Format de la Cellule Texte Brut",
  "kernelspec": {
   "display_name": "Python 3",
   "language": "python",
   "name": "python3"
  },
  "language_info": {
   "codemirror_mode": {
    "name": "ipython",
    "version": 3
   },
   "file_extension": ".py",
   "mimetype": "text/x-python",
   "name": "python",
   "nbconvert_exporter": "python",
   "pygments_lexer": "ipython3",
   "version": "3.7.3"
  }
 },
 "nbformat": 4,
 "nbformat_minor": 2
}
